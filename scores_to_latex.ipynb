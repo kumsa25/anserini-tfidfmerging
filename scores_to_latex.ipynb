{
 "cells": [
  {
   "cell_type": "code",
   "execution_count": 1,
   "metadata": {},
   "outputs": [],
   "source": [
    "import os"
   ]
  },
  {
   "cell_type": "code",
   "execution_count": 6,
   "metadata": {},
   "outputs": [
    {
     "name": "stdout",
     "output_type": "stream",
     "text": [
      "Disk & Queries & Expansion Source & Weighting & Method & MAP & P@30 & R@1000 \\\\\n",
      "\\hline\n",
      "disk12 & 51-100 & optimal & 1 & bm25s & 0.1915 & 0.4327 & 0.4253\\\\\n",
      "disk12 & 51-100 & optimal & keep\\_optimal & bm25s & 0.1917 & 0.4333 & 0.4253\\\\\n",
      "disk12 & 51-100 & optimal & 0.1 & bm25s & 0.1913 & 0.4300 & 0.4253\\\\\n",
      "disk12 & 51-100 & optimal & 0.5 & bm25s & 0.1916 & 0.4340 & 0.4253\\\\\n",
      "disk12 & 51-100 & optimal & 0 & bm25s & 0.1905 & 0.4260 & 0.4253\\\\\n",
      "disk12 & 51-100 & optimal & norm\\_across\\_query & bm25s & 0.1915 & 0.4293 & 0.4253\\\\\n",
      "disk12 & 51-100 & optimal & 1.1 & bm25s & 0.1559 & 0.3460 & 0.4055\\\\\n",
      "disk12 & 51-100 & optimal & 1 & 2 & 0.1470 & 0.3180 & 0.3958\\\\\n",
      "disk12 & 51-100 & optimal & 1.5 & bm25s & 0.1285 & 0.2653 & 0.3657\\\\\n",
      "disk12 & 51-100 & optimal & 2 & bm25s & 0.1020 & 0.1953 & 0.2991\\\\\n",
      "disk12 & 51-100 & optimal & 5 & bm25s & 0.0786 & 0.1493 & 0.2391\\\\\n"
     ]
    }
   ],
   "source": [
    "#path_to_scores = \"runs_automatic_optimalv3_stemindex_nostemquery/\"\n",
    "path_to_scores = \"runs_automatic_optimalv3_nostem/\"\n",
    "overleaf_output = []\n",
    "for file in os.listdir(path_to_scores):\n",
    "    if file[-6:] == \"scores\":\n",
    "\n",
    "        # bm25, optimal\n",
    "        #if not(\"bm25.\" in file and \".optimal.\" in file): \n",
    "        #    continue\n",
    "\n",
    "        # bm25, non optimal\n",
    "        #if not(\"wordnet.\" in file and \"bm25.\" in file):\n",
    "        #    continue\n",
    "\n",
    "        # bm25s, optimal\n",
    "        if not(\"optimal.\" in file and \"bm25s.\" in file):\n",
    "            continue\n",
    "\n",
    "        # bm25s, not optimal\n",
    "        #if not(\"wordnet.\" in file and \"bm25s.\" in file):\n",
    "        #    continue\n",
    "\n",
    "\n",
    "        scores = []\n",
    "        with open(path_to_scores + file, \"r\") as f:\n",
    "            for line in f:\n",
    "                scores.append(line.strip(\"\\n\").split())\n",
    "        split_scores = file.split(\".\")\n",
    "        disk = split_scores[1]\n",
    "        queries = split_scores[2]\n",
    "        source = split_scores[3]\n",
    "        weight = split_scores[4]\n",
    "        if split_scores[5] in [\"1\",\"5\"]:\n",
    "            weight += \".\" + split_scores[5]\n",
    "            method = split_scores[6]\n",
    "        else:\n",
    "            method = split_scores[5]\n",
    "\n",
    "        if \"_\" in weight:\n",
    "            weight = \"\\_\".join(weight.split(\"_\"))\n",
    "        map =  scores[0][2]\n",
    "        p30 = scores[1][2]\n",
    "        recall = scores[2][2]\n",
    "\n",
    "        overleaf_output.append([disk,queries,source,weight,method,map,p30,recall])\n",
    "\n",
    "\n",
    "sorted_overleaf_output = sorted(overleaf_output, reverse=True, key=lambda x: float(x[-1]))\n",
    "sorted_overleaf_output = [\"Disk & Queries & Expansion Source & Weighting & Method & MAP & P@30 & R@1000 \\\\\\\\\"] + [\"\\\\hline\"] + [\" & \".join(x) + \"\\\\\\\\\" for x in sorted_overleaf_output]\n",
    "for line in sorted_overleaf_output:\n",
    "    print(line)"
   ]
  }
 ],
 "metadata": {
  "kernelspec": {
   "display_name": "Python 3",
   "language": "python",
   "name": "python3"
  },
  "language_info": {
   "codemirror_mode": {
    "name": "ipython",
    "version": 3
   },
   "file_extension": ".py",
   "mimetype": "text/x-python",
   "name": "python",
   "nbconvert_exporter": "python",
   "pygments_lexer": "ipython3",
   "version": "3.8.10"
  },
  "orig_nbformat": 4,
  "vscode": {
   "interpreter": {
    "hash": "916dbcbb3f70747c44a77c7bcd40155683ae19c65e1c03b4aa3499c5328201f1"
   }
  }
 },
 "nbformat": 4,
 "nbformat_minor": 2
}
