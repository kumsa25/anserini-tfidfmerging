{
 "cells": [
  {
   "cell_type": "code",
   "execution_count": 1,
   "metadata": {},
   "outputs": [],
   "source": [
    "import os"
   ]
  },
  {
   "cell_type": "code",
   "execution_count": 24,
   "metadata": {},
   "outputs": [
    {
     "name": "stdout",
     "output_type": "stream",
     "text": [
      "Disk & Queries & Expansion Source & Weighting & Method & MAP & P@30 & R@1000 \\\\\n",
      "\\hline\n",
      "disk12 & 51-100 & wordnet & contextual\\_term & bm25 & 0.2287 & 0.4520 & 0.4922\\\\\n",
      "disk12 & 51-100 & wordnet & 1 & bm25 & 0.2277 & 0.4540 & 0.4895\\\\\n",
      "disk12 & 51-100 & wordnet & 0 & bm25s & 0.2276 & 0.4540 & 0.4895\\\\\n",
      "disk12 & 51-100 & wordnet & 0.1 & bm25s & 0.2276 & 0.4540 & 0.4895\\\\\n",
      "disk12 & 51-100 & optimal & 1 & bm25 & 0.2277 & 0.4540 & 0.4895\\\\\n",
      "disk12 & 51-100 & wordnet & contextual\\_term & bm25s & 0.2270 & 0.4527 & 0.4893\\\\\n",
      "disk12 & 51-100 & wordnet & contextual\\_mean & bm25s & 0.2275 & 0.4540 & 0.4887\\\\\n",
      "disk12 & 51-100 & wordnet & 0.5 & bm25s & 0.2271 & 0.4540 & 0.4884\\\\\n",
      "disk12 & 51-100 & wordnet & wordnet\\_wup & bm25s & 0.2274 & 0.4540 & 0.4878\\\\\n",
      "disk12 & 51-100 & wordnet & wordnet\\_path & bm25s & 0.2274 & 0.4540 & 0.4878\\\\\n",
      "disk12 & 51-100 & optimal & 0.5 & bm25 & 0.2241 & 0.4527 & 0.4876\\\\\n",
      "disk12 & 51-100 & optimal & 0.1 & bm25 & 0.2182 & 0.4433 & 0.4816\\\\\n",
      "disk12 & 51-100 & wordnet & 0.5 & bm25 & 0.2223 & 0.4553 & 0.4809\\\\\n",
      "disk12 & 51-100 & wordnet & contextual\\_mean & bm25 & 0.2217 & 0.4533 & 0.4777\\\\\n",
      "disk12 & 51-100 & optimal & 0 & bm25 & 0.2160 & 0.4413 & 0.4754\\\\\n",
      "disk12 & 51-100 & wordnet & 0.1 & bm25 & 0.1908 & 0.4333 & 0.4444\\\\\n",
      "disk12 & 51-100 & wordnet & wordnet\\_wup & bm25 & 0.1842 & 0.4260 & 0.4379\\\\\n",
      "disk12 & 51-100 & wordnet & wordnet\\_path & bm25 & 0.1842 & 0.4260 & 0.4379\\\\\n",
      "disk12 & 51-100 & wordnet & 1 & bm25s & 0.1762 & 0.3473 & 0.4283\\\\\n",
      "disk12 & 51-100 & wordnet & 0 & bm25 & 0.1431 & 0.3280 & 0.3911\\\\\n",
      "covid & round1 & wordnet & contextual\\_term & bm25 & 0.0246 & 0.0744 & 0.3072\\\\\n",
      "covid & round1 & wordnet & 1 & bm25 & 0.0241 & 0.0700 & 0.3052\\\\\n",
      "covid & round1 & optimal & 0 & bm25 & 0.0241 & 0.0700 & 0.3052\\\\\n",
      "covid & round1 & optimal & 0.1 & bm25 & 0.0241 & 0.0700 & 0.3052\\\\\n",
      "covid & round1 & optimal & 0.5 & bm25 & 0.0241 & 0.0700 & 0.3052\\\\\n",
      "covid & round1 & optimal & 1 & bm25 & 0.0241 & 0.0700 & 0.3052\\\\\n",
      "covid & round1 & wordnet & 0 & bm25s & 0.0237 & 0.0700 & 0.3027\\\\\n",
      "covid & round1 & wordnet & 0.1 & bm25s & 0.0237 & 0.0700 & 0.3027\\\\\n",
      "covid & round1 & wordnet & contextual\\_mean & bm25s & 0.0237 & 0.0700 & 0.3027\\\\\n",
      "covid & round1 & wordnet & 0.5 & bm25s & 0.0236 & 0.0700 & 0.3021\\\\\n",
      "covid & round1 & wordnet & contextual\\_term & bm25s & 0.0235 & 0.0689 & 0.3013\\\\\n",
      "covid & round1 & wordnet & wordnet\\_wup & bm25s & 0.0218 & 0.0667 & 0.3008\\\\\n",
      "covid & round1 & wordnet & wordnet\\_path & bm25s & 0.0218 & 0.0667 & 0.3008\\\\\n",
      "covid & round1 & wordnet & 0.5 & bm25 & 0.0240 & 0.0767 & 0.2993\\\\\n",
      "covid & round1 & wordnet & contextual\\_mean & bm25 & 0.0225 & 0.0700 & 0.2839\\\\\n",
      "covid & round1 & wordnet & 1 & bm25s & 0.0177 & 0.0456 & 0.2781\\\\\n",
      "covid & round1 & wordnet & wordnet\\_wup & bm25 & 0.0225 & 0.0656 & 0.2778\\\\\n",
      "covid & round1 & wordnet & wordnet\\_path & bm25 & 0.0225 & 0.0656 & 0.2778\\\\\n",
      "covid & round1 & wordnet & 0.1 & bm25 & 0.0200 & 0.0633 & 0.2678\\\\\n",
      "covid & round1 & wordnet & 0 & bm25 & 0.0174 & 0.0544 & 0.2514\\\\\n"
     ]
    }
   ],
   "source": [
    "path_to_scores = \"runs_automatic/\"\n",
    "overleaf_output = []\n",
    "for file in os.listdir(path_to_scores):\n",
    "    if file[-6:] == \"scores\":\n",
    "        scores = []\n",
    "        with open(path_to_scores + file, \"r\") as f:\n",
    "            for line in f:\n",
    "                scores.append(line.strip(\"\\n\").split())\n",
    "        split_scores = file.split(\".\")\n",
    "        disk = split_scores[1]\n",
    "        queries = split_scores[2]\n",
    "        source = split_scores[3]\n",
    "        weight = split_scores[4]\n",
    "        if split_scores[5] in [\"1\",\"5\"]:\n",
    "            weight += \".\" + split_scores[5]\n",
    "            method = split_scores[6]\n",
    "        else:\n",
    "            method = split_scores[5]\n",
    "\n",
    "        if \"_\" in weight:\n",
    "            weight = \"\\_\".join(weight.split(\"_\"))\n",
    "        map =  scores[0][2]\n",
    "        p30 = scores[1][2]\n",
    "        recall = scores[2][2]\n",
    "\n",
    "        overleaf_output.append([disk,queries,source,weight,method,map,p30,recall])\n",
    "\n",
    "\n",
    "sorted_overleaf_output = sorted(overleaf_output, reverse=True, key=lambda x: float(x[-1]))\n",
    "sorted_overleaf_output = [\"Disk & Queries & Expansion Source & Weighting & Method & MAP & P@30 & R@1000 \\\\\\\\\"] + [\"\\\\hline\"] + [\" & \".join(x) + \"\\\\\\\\\" for x in sorted_overleaf_output]\n",
    "for line in sorted_overleaf_output:\n",
    "    print(line)"
   ]
  }
 ],
 "metadata": {
  "kernelspec": {
   "display_name": "Python 3",
   "language": "python",
   "name": "python3"
  },
  "language_info": {
   "codemirror_mode": {
    "name": "ipython",
    "version": 3
   },
   "file_extension": ".py",
   "mimetype": "text/x-python",
   "name": "python",
   "nbconvert_exporter": "python",
   "pygments_lexer": "ipython3",
   "version": "3.8.10"
  },
  "orig_nbformat": 4,
  "vscode": {
   "interpreter": {
    "hash": "916dbcbb3f70747c44a77c7bcd40155683ae19c65e1c03b4aa3499c5328201f1"
   }
  }
 },
 "nbformat": 4,
 "nbformat_minor": 2
}
