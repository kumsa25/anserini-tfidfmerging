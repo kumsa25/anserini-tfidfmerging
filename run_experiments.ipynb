{
 "cells": [
  {
   "cell_type": "code",
   "execution_count": 1,
   "metadata": {},
   "outputs": [],
   "source": [
    "import os\n",
    "\n",
    "#### This file is out of date - use run_experiments_script.py"
   ]
  },
  {
   "cell_type": "code",
   "execution_count": null,
   "metadata": {},
   "outputs": [],
   "source": [
    "out_dir = \"runs_automatic_optimalv3_nostem/\"\n",
    "query_dir = \"expanded_queries/\"\n",
    "for filename in os.listdir(query_dir):\n",
    "    #try:\n",
    "    #    open(\"runs_automatic/run.\" + filename + \".scores\", \"r\")\n",
    "    #    print(\"already processed\")\n",
    "    #    continue\n",
    "    #except:\n",
    "    #    pass\n",
    "    if filename[-4:] == \".txt\":\n",
    "        split_name = filename.split(\".\")\n",
    "        disk = split_name[0] # one of disk12, covid\n",
    "        method = split_name[-2] # one of bm25, bm25s\n",
    "\n",
    "\n",
    "        # bm25, optimal\n",
    "        #if not(\"optimal.\" in filename and \"bm25.\" in filename):\n",
    "        #    continue\n",
    "\n",
    "        # bm25, not optimal\n",
    "        #if not(\"wordnet.\" in filename and \"bm25.\" in filename):\n",
    "        #    continue\n",
    "\n",
    "        # bm25s, optimal\n",
    "        if not(\"optimal.\" in filename and \"bm25s.\" in filename):\n",
    "            continue\n",
    "\n",
    "        # bm25s, not optimal\n",
    "        #if not(\"wordnet.\" in filename and \"bm25s.\" in filename):\n",
    "        #    continue\n",
    "        \n",
    "        stem_flag = \"\"\n",
    "        if disk == \"disk12\":\n",
    "            disk = \"disk12_nostem\"\n",
    "            stem_flag = \" -stemmer none\"\n",
    "        else:\n",
    "            continue\n",
    "\n",
    "        print(filename)\n",
    "\n",
    "\n",
    "        if disk in [\"disk12\", \"disk12_nostem\"] and method == \"bm25s\":\n",
    "            os.system(\n",
    "            \"target/appassembler/bin/SearchCollection -index indexes/lucene-index.\" + disk + \"/ -topics src/main/resources/topics-and-qrels/topics.adhoc.51-100.txt -topicreader Trec -output \" + out_dir + \"/run.\" + filename + \" -bm25 -bm25syn -expwords \" + query_dir + filename + \" -rerankCutoff 1000 -originalidf\" + stem_flag)\n",
    "\n",
    "            os.system(\"tools/eval/trec_eval.9.0.4/trec_eval -m recall.1000 -m map -m P.30 src/main/resources/topics-and-qrels/qrels.adhoc.51-100.txt \" + out_dir + \"/run.\" + filename + \" > \" + out_dir + \"/run.\" + filename + \".scores\")\n",
    "\n",
    "        elif disk == \"covid\" and method == \"bm25s\":\n",
    "            os.system(\"target/appassembler/bin/SearchCollection -index indexes/lucene-index-cord19-abstract-2020-07-16/ -topics src/main/resources/topics-and-qrels/topics.covid-round1.xml  -topicreader Covid -topicfield query -removedups -output \" + out_dir + \"/run.\" + filename + \" -bm25 -bm25syn -expwords \" + query_dir + filename + \" -rerankCutoff 1000 -originalidf\")\n",
    "\n",
    "            os.system(\"tools/eval/trec_eval.9.0.4/trec_eval -c -m recall.1000 -m P.30 -m map  src/main/resources/topics-and-qrels/qrels.covid-round1.txt \" + out_dir + \"/run.\" + filename + \" > \" + out_dir + \"/run.\" + filename + \".scores\")\n",
    "\n",
    "        elif disk in [\"disk12\", \"disk12_nostem\"] and method == \"bm25\":\n",
    "            os.system(\"target/appassembler/bin/SearchCollection -index indexes/lucene-index.\" + disk + \"/ -topics src/main/resources/topics-and-qrels/topics.adhoc.51-100.txt -threads 1  -parallelism 1 -topicreader Trec -output \" + out_dir + \"/run.\" + filename + \" -bm25 -bm25Weighted -ignoreBoost -expwords \" + query_dir + filename + stem_flag)\n",
    "\n",
    "            os.system(\"tools/eval/trec_eval.9.0.4/trec_eval -m recall.1000 -m P.30 -m map  src/main/resources/topics-and-qrels/qrels.adhoc.51-100.txt \" + out_dir + \"/run.\" + filename + \" > \" + out_dir + \"/run.\" + filename + \".scores\")\n",
    "\n",
    "\n",
    "        elif disk == \"covid\" and method == \"bm25\":\n",
    "            os.system(\"target/appassembler/bin/SearchCollection -index indexes/lucene-index-cord19-abstract-2020-07-16/ -topics src/main/resources/topics-and-qrels/topics.covid-round1.xml -threads 1  -parallelism 1 -topicreader Covid -topicfield query -removedups -output \" + out_dir + \"/run.\" + filename + \" -bm25 -bm25Weighted -ignoreBoost -expwords \" + query_dir + filename)\n",
    "\n",
    "            os.system(\"tools/eval/trec_eval.9.0.4/trec_eval -c -m recall.1000 -m P.30 -m map  src/main/resources/topics-and-qrels/qrels.covid-round1.txt \" + out_dir + \"/run.\" + filename + \" > \" + out_dir + \"/run.\" + filename + \".scores\")"
   ]
  }
 ],
 "metadata": {
  "kernelspec": {
   "display_name": "Python 3.8.10 64-bit",
   "language": "python",
   "name": "python3"
  },
  "language_info": {
   "codemirror_mode": {
    "name": "ipython",
    "version": 3
   },
   "file_extension": ".py",
   "mimetype": "text/x-python",
   "name": "python",
   "nbconvert_exporter": "python",
   "pygments_lexer": "ipython3",
   "version": "3.8.10"
  },
  "orig_nbformat": 4,
  "vscode": {
   "interpreter": {
    "hash": "31f2aee4e71d21fbe5cf8b01ff0e069b9275f58929596ceb00d14d90e3e16cd6"
   }
  }
 },
 "nbformat": 4,
 "nbformat_minor": 2
}
