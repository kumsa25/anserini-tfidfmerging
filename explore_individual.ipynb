{
 "cells": [
  {
   "cell_type": "code",
   "execution_count": 1,
   "metadata": {},
   "outputs": [],
   "source": [
    "import matplotlib.pyplot as plt\n",
    "import json"
   ]
  },
  {
   "cell_type": "code",
   "execution_count": 10,
   "metadata": {},
   "outputs": [],
   "source": [
    "bm25_optimal_nostem = !tools/eval/trec_eval.9.0.4/trec_eval -m recall.1000 -m map -m P.30 src/main/resources/topics-and-qrels/qrels.adhoc.51-100.txt runs_automatic_optimalv3_nostem/run.disk12.51-100.optimal.0.bm25.txt -q\n",
    "\n",
    "bm25s_optimal_nostem = !tools/eval/trec_eval.9.0.4/trec_eval -m recall.1000 -m map -m P.30 src/main/resources/topics-and-qrels/qrels.adhoc.51-100.txt runs_automatic_optimalv3_nostem/run.disk12.51-100.optimal.1.bm25s.txt -q \n",
    "\n",
    "# bm25 0.1650 0.4087 0.4227\n",
    "# bm25s 0.1915 0.4327 0.4253\n",
    "\n",
    "# TODO\n",
    "# same but over baseline bm25 (R_1000 is the same? using map)"
   ]
  },
  {
   "cell_type": "code",
   "execution_count": 17,
   "metadata": {},
   "outputs": [],
   "source": [
    "def extract_from_raw(output):\n",
    "    per_query = {}\n",
    "    for line in output:\n",
    "        measure,query_id,score = line.split()\n",
    "        if query_id == \"all\": continue\n",
    "        if measure == \"map\":\n",
    "            per_query[query_id] = float(score)\n",
    "    return per_query\n",
    "\n",
    "bm25s_scores = extract_from_raw(bm25s_optimal_nostem)\n",
    "bm25_scores = extract_from_raw(bm25_optimal_nostem)"
   ]
  },
  {
   "cell_type": "code",
   "execution_count": 18,
   "metadata": {},
   "outputs": [
    {
     "data": {
      "text/plain": [
       "<BarContainer object of 50 artists>"
      ]
     },
     "execution_count": 18,
     "metadata": {},
     "output_type": "execute_result"
    },
    {
     "data": {
      "image/png": "[encoded data removed]",
      "text/plain": [
       "<Figure size 1280x480 with 1 Axes>"
      ]
     },
     "metadata": {
      "needs_background": "light"
     },
     "output_type": "display_data"
    }
   ],
   "source": [
    "# positive: bm25s improvement\n",
    "difference = {x: bm25s_scores[x] - bm25_scores[x] for x in bm25s_scores}\n",
    "plt.figure(figsize=(16, 6), dpi=80)\n",
    "plt.bar(list(difference.keys()), list(difference.values()))"
   ]
  },
  {
   "cell_type": "code",
   "execution_count": 9,
   "metadata": {},
   "outputs": [
    {
     "data": {
      "text/plain": [
       "{'israeli': {'israelis': 0.9199905395507812,\n",
       "  'israel': 0.8885443210601807,\n",
       "  'palestinian': 0.8115027546882629,\n",
       "  'palestinians': 0.7595594525337219,\n",
       "  'gaza': 0.7283717393875122},\n",
       " 'role': {'leaders': 0.5472498536109924},\n",
       " 'in': {},\n",
       " 'iran': {'iranian': 0.8271468877792358,\n",
       "  'israel': 0.7230474948883057,\n",
       "  'lebanon': 0.622096061706543,\n",
       "  'israelis': 0.5517284274101257,\n",
       "  'arab': 0.5348331332206726},\n",
       " 'contra': {},\n",
       " 'affair': {}}"
      ]
     },
     "execution_count": 9,
     "metadata": {},
     "output_type": "execute_result"
    }
   ],
   "source": [
    "exp_terms = json.load(open(\"expanded_queries/optimal_v3.51-100.json\", \"r\"))\n",
    "exp_terms[\"61\"]\n",
    "    "
   ]
  },
  {
   "cell_type": "code",
   "execution_count": 8,
   "metadata": {},
   "outputs": [
    {
     "data": {
      "text/plain": [
       "<matplotlib.collections.PathCollection at 0x7f549833eb50>"
      ]
     },
     "execution_count": 8,
     "metadata": {},
     "output_type": "execute_result"
    },
    {
     "data": {
      "image/png": "[encoded data removed]",
      "text/plain": [
       "<Figure size 432x288 with 1 Axes>"
      ]
     },
     "metadata": {
      "needs_background": "light"
     },
     "output_type": "display_data"
    }
   ],
   "source": [
    "# correlation measures\n",
    "\n",
    "# prop_represented:: number of terms with at least one expansion term\n",
    "# exp_total_weight: total weight added by expansion terms\n",
    "# num_exp_terms: total number of expansion terms added\n",
    "# length: length of query \n",
    "\n",
    "query_stats = {}\n",
    "for query_id in exp_terms:\n",
    "    query_stats[query_id] = {\n",
    "        \"length\": len(exp_terms[query_id]), \n",
    "        \"num_exp_terms\": sum([len(exp_terms[query_id][x]) for x in exp_terms[query_id]]),\n",
    "        \"difference\": difference[query_id],\n",
    "        \"exp_total_weight\": sum([sum([exp_terms[query_id][x][exp_term] for exp_term in exp_terms[query_id][x]]) for x in exp_terms[query_id]]),\n",
    "        \"prop_represented\": sum([1 for x in exp_terms[query_id] if len(exp_terms[query_id][x]) > 0]) / len(exp_terms[query_id]) \n",
    "    }\n",
    "\n",
    "plt.scatter([query_stats[x][\"exp_total_weight\"] for x in query_stats], [query_stats[x][\"difference\"] for x in query_stats])"
   ]
  }
 ],
 "metadata": {
  "kernelspec": {
   "display_name": "Python 3",
   "language": "python",
   "name": "python3"
  },
  "language_info": {
   "codemirror_mode": {
    "name": "ipython",
    "version": 3
   },
   "file_extension": ".py",
   "mimetype": "text/x-python",
   "name": "python",
   "nbconvert_exporter": "python",
   "pygments_lexer": "ipython3",
   "version": "3.8.10"
  },
  "orig_nbformat": 4,
  "vscode": {
   "interpreter": {
    "hash": "916dbcbb3f70747c44a77c7bcd40155683ae19c65e1c03b4aa3499c5328201f1"
   }
  }
 },
 "nbformat": 4,
 "nbformat_minor": 2
}
