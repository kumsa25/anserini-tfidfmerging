{
 "cells": [
  {
   "cell_type": "code",
   "execution_count": 1,
   "metadata": {},
   "outputs": [],
   "source": [
    "import math\n",
    "import matplotlib.pyplot as plt"
   ]
  },
  {
   "cell_type": "code",
   "execution_count": 2,
   "metadata": {},
   "outputs": [],
   "source": [
    "class Corpus:\n",
    "    def __init__(self, raw_corpus) -> None:\n",
    "        self.raw_corpus = raw_corpus\n",
    "        self.N = len(raw_corpus)\n",
    "        self.doc_lengths = {doc: sum([raw_corpus[doc][word] for word in raw_corpus[doc]]) for doc in raw_corpus}\n",
    "        self.avgdl = sum(list(self.doc_lengths.values())) / self.N\n",
    "        self.inv_idx = {}\n",
    "        for doc in raw_corpus:\n",
    "            for word in raw_corpus[doc]:\n",
    "                if word not in self.inv_idx:\n",
    "                    self.inv_idx[word] = []\n",
    "                self.inv_idx[word].append(doc)    \n",
    "    def get_tf(self, doc, word):\n",
    "        return self.raw_corpus[doc].get(word, 0)\n",
    "    def get_df(self, word):\n",
    "        return len(self.inv_idx[word])\n",
    "    def get_dl(self, doc):\n",
    "        return self.doc_lengths[doc]\n",
    "    def get_avgdl(self):\n",
    "        return self.avgdl\n",
    "    def get_num_docs(self):\n",
    "        return self.N\n",
    "    def get_matching_docs(self, word):\n",
    "        return self.inv_idx[word]\n",
    "    def get_matching_docs_list(self, words):\n",
    "        matching_docs = []\n",
    "        for word in words:\n",
    "            matching_docs += self.get_matching_docs(word)\n",
    "        return list(set(matching_docs))\n",
    "    def get_union_df(self, words):\n",
    "        all_df = {}\n",
    "        for word in words:\n",
    "            for matching_doc in self.get_matching_docs(word):\n",
    "                if matching_doc not in all_df:\n",
    "                    all_df[matching_doc] = True\n",
    "        return len(all_df)\n"
   ]
  },
  {
   "cell_type": "code",
   "execution_count": 4,
   "metadata": {},
   "outputs": [],
   "source": [
    "def bm25(k1, b, query, corpus):\n",
    "    \"\"\"\n",
    "    query is an array of terms\n",
    "    e.g. [\"w5\", \"w3\"]\n",
    "    \"\"\"\n",
    "    scores = {}\n",
    "    for word in query:\n",
    "        idf = math.log(corpus.get_num_docs() / corpus.get_df(word))\n",
    "        candidate_documents = corpus.get_matching_docs(word)\n",
    "        for doc in candidate_documents:\n",
    "            if doc not in scores:\n",
    "                scores[doc] = 0\n",
    "            tf_num = (k1 + 1) * corpus.get_tf(doc, word)\n",
    "            tf_denom = k1 * (1- b + b * (corpus.get_dl(doc) / corpus.get_avgdl())) + corpus.get_tf(doc, word)\n",
    "            score = idf * (tf_num / tf_denom)\n",
    "            scores[doc] += score\n",
    "    return scores\n",
    "\n",
    "\n",
    "def bm25s(k1, b, query, corpus):\n",
    "    \"\"\"\n",
    "    query is a dictionary of list expansion terms\n",
    "    e.g. {\"w5\": [\"w3\"]}\n",
    "    \"\"\"\n",
    "    scores = {}\n",
    "\n",
    "    for word in query:\n",
    "        expansion_words = query[word]\n",
    "        all_query_terms = expansion_words + [word] # add back the query term\n",
    "\n",
    "        idf = math.log(corpus.get_num_docs() / corpus.get_union_df(all_query_terms))\n",
    "\n",
    "        for doc in corpus.get_matching_docs_list(all_query_terms):\n",
    "            if doc not in scores:\n",
    "                scores[doc] = 0\n",
    "\n",
    "                tf_across_expansions = 0\n",
    "                for et in all_query_terms:\n",
    "                    tf_across_expansions += corpus.get_tf(doc, et)\n",
    "\n",
    "                tf_num = (k1 + 1) * tf_across_expansions\n",
    "                tf_denom = k1 * (1- b + b * (corpus.get_dl(doc) / corpus.get_avgdl())) + tf_across_expansions\n",
    "\n",
    "                score = idf * (tf_num / tf_denom)\n",
    "                scores[doc] += score\n",
    "    return scores\n",
    "        "
   ]
  },
  {
   "cell_type": "code",
   "execution_count": 4,
   "metadata": {},
   "outputs": [
    {
     "data": {
      "text/plain": [
       "<matplotlib.legend.Legend at 0x7fc650b1a730>"
      ]
     },
     "execution_count": 4,
     "metadata": {},
     "output_type": "execute_result"
    },
    {
     "data": {
      "image/png": "[encoded data removed]",
      "text/plain": [
       "<Figure size 432x288 with 1 Axes>"
      ]
     },
     "metadata": {
      "needs_background": "light"
     },
     "output_type": "display_data"
    }
   ],
   "source": [
    "# Corpus simulations\n",
    "\n",
    "\"\"\"\n",
    "term in doc overlap\n",
    "\"\"\"\n",
    "scores = {\n",
    "    \"bm25\": [],\n",
    "    \"bm25s\": []\n",
    "}\n",
    "for i in range(10):\n",
    "    raw_corpus = {\n",
    "        \"doc1\": {\"w1\": 1, \"w2\": 10},\n",
    "        \"doc2\": {\"w1\": 1, \"w2\": i},\n",
    "        \"doc3\": {\"w3\": 1}\n",
    "    }\n",
    "    c = Corpus(raw_corpus)\n",
    "    k1 = 1.5\n",
    "    b = 0.5\n",
    "\n",
    "    bm25_scores = bm25(1.5, 0.5, [\"w1\", \"w2\"], c)\n",
    "    scores[\"bm25\"].append({\"percentage_overlap\": i/10, \"doc_scores\": bm25_scores})\n",
    "\n",
    "    bm25s_scores = bm25s(1.5, 0.5, {\"w1\": [\"w2\"]}, c)\n",
    "    scores[\"bm25s\"].append({\"percentage_overlap\": i/10, \"doc_scores\": bm25s_scores})\n",
    "\n",
    "plt.scatter([x[\"percentage_overlap\"] for x in scores[\"bm25\"]], [x[\"doc_scores\"][\"doc2\"] for x in scores[\"bm25\"]], label='Doc2 for BM25')\n",
    "plt.scatter([x[\"percentage_overlap\"] for x in scores[\"bm25\"]], [x[\"doc_scores\"][\"doc2\"] for x in scores[\"bm25s\"]],label='Doc2 for BM25-S')\n",
    "plt.xlabel(\"Proportion of shared w2 between Doc1 and Doc2\")\n",
    "plt.ylabel(\"Score\")\n",
    "plt.legend()"
   ]
  },
  {
   "cell_type": "code",
   "execution_count": 5,
   "metadata": {},
   "outputs": [
    {
     "data": {
      "text/plain": [
       "<matplotlib.legend.Legend at 0x7fc650a167c0>"
      ]
     },
     "execution_count": 5,
     "metadata": {},
     "output_type": "execute_result"
    },
    {
     "data": {
      "image/png": "[encoded data removed]",
      "text/plain": [
       "<Figure size 432x288 with 1 Axes>"
      ]
     },
     "metadata": {
      "needs_background": "light"
     },
     "output_type": "display_data"
    }
   ],
   "source": [
    "# high low union (number of docs)\n",
    "\n",
    "# only adding docs with w1\n",
    "# query: w1 and w2\n",
    "# bm25 increases because w2 becomes more and more rare\n",
    "# bm25s decreases because w1 exists in many docs, decreasing w2 importance\n",
    "\n",
    "scores = {\n",
    "    \"bm25\": [],\n",
    "    \"bm25s\": []\n",
    "}\n",
    "raw_corpus = {\n",
    "        \"doc_orig1\": {\"w1\": 1, \"w2\": 1},\n",
    "        \"doc_orig2\": {\"w3\": 1}\n",
    "    }\n",
    "for i in range(10):\n",
    "    raw_corpus[\"doc\" + str(i)] = {\"w1\": 1}\n",
    "    c = Corpus(raw_corpus)\n",
    "    k1 = 1.5\n",
    "    b = 0.5\n",
    "\n",
    "    bm25_scores = bm25(1.5, 0.5, [\"w1\", \"w2\"], c)\n",
    "    scores[\"bm25\"].append({\"num_overlap\": i, \"doc_scores\": bm25_scores})\n",
    "\n",
    "\n",
    "    bm25s_scores = bm25s(1.5, 0.5, {\"w1\": [\"w2\"]}, c)\n",
    "    scores[\"bm25s\"].append({\"num_overlap\": i, \"doc_scores\": bm25s_scores})\n",
    "\n",
    "plt.scatter([x[\"num_overlap\"] for x in scores[\"bm25\"]], [x[\"doc_scores\"][\"doc_orig1\"] for x in scores[\"bm25\"]], label='doc_orig1 for BM25')\n",
    "plt.scatter([x[\"num_overlap\"] for x in scores[\"bm25\"]], [x[\"doc_scores\"][\"doc_orig1\"] for x in scores[\"bm25s\"]],label='doc_orig1 for BM25-S')\n",
    "\n",
    "# These are exactly the same\n",
    "plt.scatter([x[\"num_overlap\"] for x in scores[\"bm25\"]], [x[\"doc_scores\"][\"doc0\"] for x in scores[\"bm25\"]], label='doc0 for BM25')\n",
    "plt.scatter([x[\"num_overlap\"] for x in scores[\"bm25\"]], [x[\"doc_scores\"][\"doc0\"] for x in scores[\"bm25s\"]],label='doc0 for BM25-S')\n",
    "\n",
    "plt.xlabel(\"The number of documents that contain w1\")\n",
    "plt.ylabel(\"Score\")\n",
    "plt.legend()"
   ]
  },
  {
   "cell_type": "code",
   "execution_count": 6,
   "metadata": {},
   "outputs": [],
   "source": [
    "# Corpus parameters\n",
    "\n",
    "# to Cheng\n",
    "    # baseline, optimal v3 weight 1 bm25s, weight 1 bm25\n",
    "# sanjeev: max,min idf and avg or union\n",
    "\n",
    "# Cases where expansion term decreases score (idf drop)\n",
    "# Many documents that do not match original query term\n",
    "\n",
    "# Optimal expansion: gave bm25 favor, not matching any original query term\n",
    "# union will decrease idf\n",
    "# HYPOTHESIS: what should we expect in simulation? Under what conditions should bm25s outperform bm25\n",
    "    # construct example scenarios\n",
    "    # simulate relevance?\n",
    "        # \n",
    "    # 1 query term, 1 expansion term, what do we expect in ranking results?\n",
    "        # document matched both many\n",
    "        # document matched original many, expansion few, and vice versa\n",
    "        # just expansion term? over original match?\n",
    "            # how to quantify these trade-offs?\n",
    "        # how quickly does this change per expansion selection, broader corpus properties\n",
    "        # query term, top n docs, label subset as relevant\n",
    "\n",
    "    # also look at expansion terms in bm25, how it affects\n",
    "\n",
    "    # pipeline: select expansion terms, record term statistics, retrieve, and compare term distributions in retireved ranked lists to find differences\n",
    "        # inspire differences by axiomatic properties\n",
    "\n",
    "import random\n",
    "\n",
    "TOTAL_DOCS = 1000\n",
    "TOTAL_WORDS = 100000\n",
    "TOPICS = 100\n",
    "MAX_DOC_LENGTH = 1000\n",
    "raw_corpus ={}\n",
    "for doc in range(TOTAL_DOCS):\n",
    "    doc_length = random.randint(1,MAX_DOC_LENGTH)\n",
    "    raw_corpus[\"doc\" + str(doc)] = {}\n",
    "    skip_interval = 1\n",
    "    while doc_length > 0:\n",
    "        word_selection = random.randint(skip_interval, min(skip_interval*2, TOTAL_WORDS))\n",
    "        raw_corpus[\"doc\" + str(doc)][\"w\" + str(word_selection)] = raw_corpus[\"doc\" + str(doc)].get(\"w\" + str(word_selection), 0) + 1\n",
    "        skip_interval = skip_interval * 2\n",
    "        if skip_interval > TOTAL_WORDS:\n",
    "            skip_interval = 1\n",
    "        doc_length -= 1\n",
    "\n",
    "c = Corpus(raw_corpus)"
   ]
  },
  {
   "cell_type": "code",
   "execution_count": 8,
   "metadata": {},
   "outputs": [],
   "source": [
    "scores = {\n",
    "    \"bm25\": [],\n",
    "    \"bm25s\": []\n",
    "}\n",
    "\n",
    "inv_idx = c.inv_idx\n",
    "all_words = list(inv_idx.keys())\n",
    "\n",
    "differences = {}\n",
    "\n",
    "for i in range(500):\n",
    "    base_query_word = all_words[random.randint(0, c.N)]\n",
    "    exp_query_word1 = all_words[random.randint(0, c.N)]\n",
    "    #exp_query_word2 = all_words[random.randint(0, c.N)]\n",
    "\n",
    "\n",
    "    \n",
    "    bm25_scores = bm25(1.5, 0.5, [base_query_word, exp_query_word1], c)\n",
    "    scores[\"bm25\"].append({\"iteration\": i, \"query\": [base_query_word, exp_query_word1], \"doc_scores\": bm25_scores})\n",
    "\n",
    "    bm25s_scores = bm25s(1.5, 0.5, {base_query_word: [exp_query_word1]}, c)\n",
    "    scores[\"bm25s\"].append({\"iteration\": i, \"query\": {base_query_word: [exp_query_word1]}, \"doc_scores\": bm25s_scores})\n",
    "\n",
    "    # Check the returned results, return the difference\n",
    "    differences[i] = {}\n",
    "    for rank,doc in enumerate(bm25_scores):\n",
    "        differences[i][doc] = {\"bm25\": rank}\n",
    "    for rank,doc in enumerate(bm25s_scores):\n",
    "        if doc not in differences[i]:\n",
    "            differences[i][doc] = {\"bm25s\": rank}\n",
    "        else:\n",
    "            differences[i][doc][\"bm25s\"] = rank"
   ]
  },
  {
   "cell_type": "code",
   "execution_count": 10,
   "metadata": {},
   "outputs": [
    {
     "data": {
      "text/plain": [
       "Text(0, 0.5, 'Proportion of documents ranked differently')"
      ]
     },
     "execution_count": 10,
     "metadata": {},
     "output_type": "execute_result"
    },
    {
     "data": {
      "image/png": "[encoded data removed]",
      "text/plain": [
       "<Figure size 432x288 with 1 Axes>"
      ]
     },
     "metadata": {
      "needs_background": "light"
     },
     "output_type": "display_data"
    }
   ],
   "source": [
    "# num differences\n",
    "num_diffs = []\n",
    "for i in differences:\n",
    "    num_diffs.append(0)\n",
    "    for doc in differences[i]:\n",
    "        if differences[i][doc][\"bm25\"] != differences[i][doc][\"bm25s\"]:\n",
    "            num_diffs[i] += 1\n",
    "    num_diffs[i] = num_diffs[i] / len(differences[i])\n",
    "\n",
    "plt.scatter([i for i in range(len(num_diffs))], [i for i in num_diffs])\n",
    "plt.xlabel(\"Query\")\n",
    "plt.ylabel(\"Proportion of documents ranked differently\")\n"
   ]
  },
  {
   "cell_type": "code",
   "execution_count": 11,
   "metadata": {},
   "outputs": [
    {
     "data": {
      "text/plain": [
       "Text(0, 0.5, 'Proportion of documents moved from top-ten')"
      ]
     },
     "execution_count": 11,
     "metadata": {},
     "output_type": "execute_result"
    },
    {
     "data": {
      "image/png": "[encoded data removed]",
      "text/plain": [
       "<Figure size 432x288 with 1 Axes>"
      ]
     },
     "metadata": {
      "needs_background": "light"
     },
     "output_type": "display_data"
    }
   ],
   "source": [
    "# changes within the top 10: documents that were in top ten of bm25, but no longer in bm25s top ten\n",
    "# with respect to count of documents that contain both\n",
    "num_diffs = []\n",
    "matching_lengths = []\n",
    "for i in differences:\n",
    "    num_diffs.append(0)\n",
    "    for doc in differences[i]:\n",
    "        # check if there is a bm25 ranked doc inside top ten and bm25s ranked doc outside top ten\n",
    "        if differences[i][doc][\"bm25\"] < 10 and differences[i][doc][\"bm25s\"] > 10:\n",
    "            num_diffs[i] += 1\n",
    "    num_diffs[i] = num_diffs[i] / len(differences[i])\n",
    "\n",
    "\n",
    "    matching_length = len(list(set(c.get_matching_docs(scores[\"bm25\"][i][\"query\"][0])).intersection(set(c.get_matching_docs(scores[\"bm25\"][i][\"query\"][1])))))\n",
    "    \n",
    "    matching_lengths.append(matching_length)\n",
    "\n",
    "\n",
    "plt.scatter(matching_lengths, num_diffs)\n",
    "plt.xlabel(\"Number of overlapping documents\")\n",
    "plt.ylabel(\"Proportion of documents moved from top-ten\")"
   ]
  },
  {
   "cell_type": "code",
   "execution_count": 12,
   "metadata": {},
   "outputs": [],
   "source": [
    "# changes within the top n\n",
    "all_doc_differences = {}\n",
    "for i in differences:\n",
    "    for doc in differences[i]:\n",
    "        if doc not in all_doc_differences:\n",
    "            all_doc_differences[doc] = {}\n",
    "        difference = differences[i][doc][\"bm25s\"] - differences[i][doc][\"bm25\"]\n",
    "        # note i is query id\n",
    "        all_doc_differences[doc][i] = difference\n",
    "\n"
   ]
  },
  {
   "cell_type": "code",
   "execution_count": 54,
   "metadata": {},
   "outputs": [],
   "source": [
    "reformatted = []\n",
    "for doc in all_doc_differences:\n",
    "    for queryid in all_doc_differences[doc]:\n",
    "        reformatted.append({\"doc\": doc, \"query\": queryid, \"delta\": all_doc_differences[doc][queryid]})\n",
    "\n",
    "reformatted = sorted(reformatted, reverse=True, key=lambda x: x[\"delta\"])"
   ]
  },
  {
   "cell_type": "code",
   "execution_count": 55,
   "metadata": {},
   "outputs": [
    {
     "data": {
      "text/plain": [
       "[{'doc': 'doc22', 'query': 160, 'delta': 961},\n",
       " {'doc': 'doc22', 'query': 339, 'delta': 958},\n",
       " {'doc': 'doc2', 'query': 160, 'delta': 956},\n",
       " {'doc': 'doc2', 'query': 339, 'delta': 953},\n",
       " {'doc': 'doc2', 'query': 3, 'delta': 938},\n",
       " {'doc': 'doc60', 'query': 160, 'delta': 913},\n",
       " {'doc': 'doc60', 'query': 339, 'delta': 909},\n",
       " {'doc': 'doc22', 'query': 69, 'delta': 907},\n",
       " {'doc': 'doc4', 'query': 160, 'delta': 905},\n",
       " {'doc': 'doc2', 'query': 69, 'delta': 902}]"
      ]
     },
     "execution_count": 55,
     "metadata": {},
     "output_type": "execute_result"
    }
   ],
   "source": [
    "reformatted[:10]"
   ]
  },
  {
   "cell_type": "code",
   "execution_count": 56,
   "metadata": {},
   "outputs": [
    {
     "name": "stdout",
     "output_type": "stream",
     "text": [
      "{'w1': 4, 'w4': 5, 'w7': 4, 'w10': 2, 'w18': 2, 'w54': 1, 'w126': 1, 'w194': 1, 'w331': 1, 'w653': 1, 'w1870': 1, 'w2934': 1, 'w7076': 1, 'w8493': 1, 'w28776': 1, 'w50904': 1, 'w94143': 1, 'w2': 7, 'w13': 1, 'w24': 1, 'w59': 2, 'w109': 1, 'w179': 1, 'w376': 2, 'w848': 1, 'w1629': 1, 'w3555': 1, 'w6034': 1, 'w13004': 1, 'w30864': 1, 'w40663': 1, 'w87799': 1, 'w9': 2, 'w16': 2, 'w41': 1, 'w73': 1, 'w192': 1, 'w412': 1, 'w688': 1, 'w1771': 1, 'w2851': 1, 'w6281': 1, 'w14577': 1, 'w31986': 1, 'w42422': 1, 'w77969': 1, 'w121': 1, 'w128': 1, 'w619': 1, 'w1494': 1, 'w2897': 1, 'w7037': 1, 'w14390': 1, 'w21826': 1, 'w44032': 1, 'w99964': 1, 'w8': 1, 'w12': 1, 'w21': 1, 'w32': 2, 'w80': 1, 'w129': 1, 'w304': 1, 'w573': 1, 'w1045': 1, 'w2554': 1, 'w5230': 1, 'w13362': 1, 'w22311': 1, 'w47227': 1, 'w68983': 1, 'w5': 1, 'w14': 1, 'w19': 1, 'w50': 1, 'w115': 1, 'w171': 1, 'w366': 1, 'w700': 1, 'w1554': 1, 'w3213': 1, 'w7854': 1, 'w12783': 1, 'w23086': 1, 'w63593': 1, 'w69830': 1, 'w3': 2, 'w37': 1, 'w89': 1, 'w248': 1, 'w286': 1, 'w1014': 1, 'w1403': 1, 'w3982': 1, 'w4881': 1, 'w12126': 1, 'w32537': 1, 'w36314': 1, 'w71915': 1, 'w25': 1, 'w47': 1, 'w111': 1, 'w142': 1, 'w475': 1}\n",
      "['w4', 'w21652']\n"
     ]
    }
   ],
   "source": [
    "current = reformatted[0]\n",
    "print(raw_corpus[current[\"doc\"]])\n",
    "print(scores[\"bm25\"][current[\"query\"]][\"query\"])"
   ]
  }
 ],
 "metadata": {
  "kernelspec": {
   "display_name": "Python 3",
   "language": "python",
   "name": "python3"
  },
  "language_info": {
   "codemirror_mode": {
    "name": "ipython",
    "version": 3
   },
   "file_extension": ".py",
   "mimetype": "text/x-python",
   "name": "python",
   "nbconvert_exporter": "python",
   "pygments_lexer": "ipython3",
   "version": "3.8.10"
  },
  "orig_nbformat": 4,
  "vscode": {
   "interpreter": {
    "hash": "916dbcbb3f70747c44a77c7bcd40155683ae19c65e1c03b4aa3499c5328201f1"
   }
  }
 },
 "nbformat": 4,
 "nbformat_minor": 2
}
